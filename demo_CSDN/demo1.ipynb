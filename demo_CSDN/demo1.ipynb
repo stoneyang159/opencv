{
 "cells": [
  {
   "cell_type": "code",
   "execution_count": 1,
   "metadata": {},
   "outputs": [],
   "source": [
    "import cv2\n",
    "import imutils\n",
    "import numpy as np\n"
   ]
  },
  {
   "cell_type": "code",
   "execution_count": 2,
   "metadata": {},
   "outputs": [],
   "source": [
    "def c_and_b(arg):\n",
    "    ''''''\n",
    "    cnum = cv2.getTrackbarPos(trackbar_name1, wname)\n",
    "    bnum = cv2.getTrackbarPos(trackbar_name2, wname)\n",
    "    #print(bnum)\n",
    "    cimg = np.ones((img.shape[0], img.shape[1], 3), dtype=np.uint8)\n",
    "    for i in range(img.shape[0]):\n",
    "        for j in range(img.shape[1]):\n",
    "            lst = 0.1*cnum*img[i, j] + bnum\n",
    "            cimg[i, j] = [int(ele) if ele < 255 else 255 for ele in lst]\n",
    "    cv2.imshow(wname, imutils.resize(cimg, 800))\n",
    "\n",
    "wname = 'brightness and contrast'\n",
    "trackbar_name1 = 'contrast'\n",
    "trackbar_name2 = 'brightness'\n",
    "img = cv2.imread(\"/data/file/img/data/aero1.jpg\")\n",
    "height, width = img.shape[:2]\n",
    "img = cv2.resize(img, (int(width/height*400), 400), interpolation=cv2.INTER_CUBIC)\n",
    "\n",
    "cv2.namedWindow(wname)\n",
    "cv2.createTrackbar(trackbar_name1, wname, 10, 20, c_and_b)\n",
    "cv2.createTrackbar(trackbar_name2, wname, 0, 100, c_and_b)\n",
    "\n",
    "c_and_b(0)\n",
    "if cv2.waitKey(0) == 27:\n",
    "    cv2.destroyAllWindows()"
   ]
  },
  {
   "cell_type": "code",
   "execution_count": null,
   "metadata": {},
   "outputs": [],
   "source": []
  }
 ],
 "metadata": {
  "interpreter": {
   "hash": "2554a84789f9530cfae6f946e5a389369a6f2418ee71074c5ddc8de8117a15c0"
  },
  "kernelspec": {
   "display_name": "Python 3.8.8 64-bit ('opencv': conda)",
   "name": "python3"
  },
  "language_info": {
   "codemirror_mode": {
    "name": "ipython",
    "version": 3
   },
   "file_extension": ".py",
   "mimetype": "text/x-python",
   "name": "python",
   "nbconvert_exporter": "python",
   "pygments_lexer": "ipython3",
   "version": "3.8.8"
  },
  "orig_nbformat": 2
 },
 "nbformat": 4,
 "nbformat_minor": 2
}