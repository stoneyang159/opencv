{
 "metadata": {
  "language_info": {
   "codemirror_mode": {
    "name": "ipython",
    "version": 3
   },
   "file_extension": ".py",
   "mimetype": "text/x-python",
   "name": "python",
   "nbconvert_exporter": "python",
   "pygments_lexer": "ipython3",
   "version": "3.8.8"
  },
  "orig_nbformat": 2,
  "kernelspec": {
   "name": "python388jvsc74a57bd02554a84789f9530cfae6f946e5a389369a6f2418ee71074c5ddc8de8117a15c0",
   "display_name": "Python 3.8.8 64-bit ('opencv': conda)"
  }
 },
 "nbformat": 4,
 "nbformat_minor": 2,
 "cells": [
  {
   "cell_type": "code",
   "execution_count": 1,
   "metadata": {},
   "outputs": [],
   "source": [
    "import numpy as np\n",
    "import cv2 as cv"
   ]
  },
  {
   "cell_type": "code",
   "execution_count": 4,
   "metadata": {},
   "outputs": [],
   "source": [
    "im = cv.imread('/data/file/img/data/blox.jpg')"
   ]
  },
  {
   "cell_type": "code",
   "execution_count": 6,
   "metadata": {},
   "outputs": [
    {
     "output_type": "execute_result",
     "data": {
      "text/plain": [
       "(256, 256, 3)"
      ]
     },
     "metadata": {},
     "execution_count": 6
    }
   ],
   "source": [
    "im.shape"
   ]
  },
  {
   "cell_type": "code",
   "execution_count": 8,
   "metadata": {},
   "outputs": [],
   "source": [
    "imggray = cv.cvtColor(im, cv.COLOR_BGR2GRAY)\n",
    "ret, thresh = cv.threshold(imggray, 127, 255, 0)"
   ]
  },
  {
   "cell_type": "code",
   "execution_count": 9,
   "metadata": {},
   "outputs": [],
   "source": [
    "# 第一个是源图像，第二个是轮廓检索模式，第三个是轮廓逼近方法。\n",
    "contours, hierarchy = cv.findContours(thresh, cv.RETR_TREE, cv.CHAIN_APPROX_SIMPLE)"
   ]
  },
  {
   "cell_type": "code",
   "execution_count": 13,
   "metadata": {},
   "outputs": [
    {
     "output_type": "execute_result",
     "data": {
      "text/plain": [
       "4"
      ]
     },
     "metadata": {},
     "execution_count": 13
    }
   ],
   "source": [
    "len(contours[0])"
   ]
  },
  {
   "cell_type": "code",
   "execution_count": 14,
   "metadata": {},
   "outputs": [
    {
     "output_type": "execute_result",
     "data": {
      "text/plain": [
       "array([[[-1, -1,  1, -1],\n",
       "        [ 2, -1, -1,  0],\n",
       "        [ 3,  1, -1,  0],\n",
       "        [ 4,  2, -1,  0],\n",
       "        [ 5,  3, -1,  0],\n",
       "        [ 6,  4, -1,  0],\n",
       "        [ 7,  5, -1,  0],\n",
       "        [ 8,  6, -1,  0],\n",
       "        [10,  7,  9,  0],\n",
       "        [-1, -1, -1,  8],\n",
       "        [11,  8, -1,  0],\n",
       "        [12, 10, -1,  0],\n",
       "        [13, 11, -1,  0],\n",
       "        [14, 12, -1,  0],\n",
       "        [16, 13, 15,  0],\n",
       "        [-1, -1, -1, 14],\n",
       "        [17, 14, -1,  0],\n",
       "        [18, 16, -1,  0],\n",
       "        [19, 17, -1,  0],\n",
       "        [20, 18, -1,  0],\n",
       "        [21, 19, -1,  0],\n",
       "        [22, 20, -1,  0],\n",
       "        [23, 21, -1,  0],\n",
       "        [24, 22, -1,  0],\n",
       "        [25, 23, -1,  0],\n",
       "        [26, 24, -1,  0],\n",
       "        [28, 25, 27,  0],\n",
       "        [-1, -1, -1, 26],\n",
       "        [29, 26, -1,  0],\n",
       "        [-1, 28, -1,  0]]], dtype=int32)"
      ]
     },
     "metadata": {},
     "execution_count": 14
    }
   ],
   "source": [
    "hierarchy"
   ]
  },
  {
   "cell_type": "code",
   "execution_count": 17,
   "metadata": {},
   "outputs": [],
   "source": [
    "img_d = cv.drawContours(im, contours, -1, (0, 255, 0), 3)"
   ]
  },
  {
   "cell_type": "code",
   "execution_count": 18,
   "metadata": {},
   "outputs": [],
   "source": [
    "cv.imshow('img_d', img_d)\n",
    "cv.waitKey()\n",
    "cv.destroyAllWindows()"
   ]
  },
  {
   "cell_type": "code",
   "execution_count": null,
   "metadata": {},
   "outputs": [],
   "source": []
  }
 ]
}